{
 "cells": [
  {
   "cell_type": "code",
   "execution_count": 1,
   "id": "108282db",
   "metadata": {
    "_cell_guid": "b1076dfc-b9ad-4769-8c92-a6c4dae69d19",
    "_uuid": "8f2839f25d086af736a60e9eeb907d3b93b6e0e5",
    "execution": {
     "iopub.execute_input": "2023-06-28T00:34:04.542576Z",
     "iopub.status.busy": "2023-06-28T00:34:04.541731Z",
     "iopub.status.idle": "2023-06-28T00:34:06.656269Z",
     "shell.execute_reply": "2023-06-28T00:34:06.654907Z"
    },
    "papermill": {
     "duration": 2.122619,
     "end_time": "2023-06-28T00:34:06.659012",
     "exception": false,
     "start_time": "2023-06-28T00:34:04.536393",
     "status": "completed"
    },
    "tags": []
   },
   "outputs": [],
   "source": [
    "%%capture\n",
    "!mkdir squad\n",
    "!wget https://rajpurkar.github.io/SQuAD-explorer/dataset/train-v2.0.json -O squad/train-v2.0.json"
   ]
  },
  {
   "cell_type": "code",
   "execution_count": 2,
   "id": "4dd578a7",
   "metadata": {
    "execution": {
     "iopub.execute_input": "2023-06-28T00:34:06.668887Z",
     "iopub.status.busy": "2023-06-28T00:34:06.667977Z",
     "iopub.status.idle": "2023-06-28T00:34:08.740649Z",
     "shell.execute_reply": "2023-06-28T00:34:08.739433Z"
    },
    "papermill": {
     "duration": 2.080205,
     "end_time": "2023-06-28T00:34:08.743116",
     "exception": false,
     "start_time": "2023-06-28T00:34:06.662911",
     "status": "completed"
    },
    "tags": []
   },
   "outputs": [
    {
     "name": "stdout",
     "output_type": "stream",
     "text": [
      "Cloning into 'NLP-project'...\r\n",
      "remote: Enumerating objects: 17, done.\u001b[K\r\n",
      "remote: Counting objects: 100% (17/17), done.\u001b[K\r\n",
      "remote: Compressing objects: 100% (12/12), done.\u001b[K\r\n",
      "remote: Total 17 (delta 1), reused 7 (delta 1), pack-reused 0\u001b[K\r\n",
      "Receiving objects: 100% (17/17), 865.78 KiB | 1.87 MiB/s, done.\r\n",
      "Resolving deltas: 100% (1/1), done.\r\n"
     ]
    }
   ],
   "source": [
    "!git clone --depth 1 https://github.com/NguyenNhoTrung/NLP-project.git"
   ]
  },
  {
   "cell_type": "code",
   "execution_count": 3,
   "id": "8c1518dc",
   "metadata": {
    "execution": {
     "iopub.execute_input": "2023-06-28T00:34:08.753369Z",
     "iopub.status.busy": "2023-06-28T00:34:08.752953Z",
     "iopub.status.idle": "2023-06-28T00:34:12.318198Z",
     "shell.execute_reply": "2023-06-28T00:34:12.317279Z"
    },
    "papermill": {
     "duration": 3.572623,
     "end_time": "2023-06-28T00:34:12.320204",
     "exception": false,
     "start_time": "2023-06-28T00:34:08.747581",
     "status": "completed"
    },
    "tags": []
   },
   "outputs": [
    {
     "data": {
      "text/plain": [
       "'/kaggle/working/NLP-project/squad/train-v2.0.json'"
      ]
     },
     "execution_count": 3,
     "metadata": {},
     "output_type": "execute_result"
    }
   ],
   "source": [
    "import shutil\n",
    "import os\n",
    "import torch\n",
    "os.chdir('/kaggle/working/NLP-project')\n",
    "shutil.move('/kaggle/working/squad/train-v2.0.json', '/kaggle/working/NLP-project/squad')\n"
   ]
  },
  {
   "cell_type": "code",
   "execution_count": 4,
   "id": "4a40fcab",
   "metadata": {
    "execution": {
     "iopub.execute_input": "2023-06-28T00:34:12.331340Z",
     "iopub.status.busy": "2023-06-28T00:34:12.329596Z",
     "iopub.status.idle": "2023-06-28T00:34:12.336412Z",
     "shell.execute_reply": "2023-06-28T00:34:12.335483Z"
    },
    "papermill": {
     "duration": 0.014144,
     "end_time": "2023-06-28T00:34:12.338541",
     "exception": false,
     "start_time": "2023-06-28T00:34:12.324397",
     "status": "completed"
    },
    "tags": []
   },
   "outputs": [
    {
     "data": {
      "text/plain": [
       "'/kaggle/working/NLP-project'"
      ]
     },
     "execution_count": 4,
     "metadata": {},
     "output_type": "execute_result"
    }
   ],
   "source": [
    "os.getcwd()"
   ]
  },
  {
   "cell_type": "code",
   "execution_count": 5,
   "id": "a009c905",
   "metadata": {
    "execution": {
     "iopub.execute_input": "2023-06-28T00:34:12.348282Z",
     "iopub.status.busy": "2023-06-28T00:34:12.348016Z",
     "iopub.status.idle": "2023-06-28T00:34:24.792102Z",
     "shell.execute_reply": "2023-06-28T00:34:24.790915Z"
    },
    "papermill": {
     "duration": 12.452019,
     "end_time": "2023-06-28T00:34:24.794745",
     "exception": false,
     "start_time": "2023-06-28T00:34:12.342726",
     "status": "completed"
    },
    "tags": []
   },
   "outputs": [
    {
     "name": "stdout",
     "output_type": "stream",
     "text": [
      "Requirement already satisfied: transformers in /opt/conda/lib/python3.10/site-packages (4.30.1)\r\n",
      "Requirement already satisfied: filelock in /opt/conda/lib/python3.10/site-packages (from transformers) (3.12.0)\r\n",
      "Requirement already satisfied: huggingface-hub<1.0,>=0.14.1 in /opt/conda/lib/python3.10/site-packages (from transformers) (0.15.1)\r\n",
      "Requirement already satisfied: numpy>=1.17 in /opt/conda/lib/python3.10/site-packages (from transformers) (1.23.5)\r\n",
      "Requirement already satisfied: packaging>=20.0 in /opt/conda/lib/python3.10/site-packages (from transformers) (21.3)\r\n",
      "Requirement already satisfied: pyyaml>=5.1 in /opt/conda/lib/python3.10/site-packages (from transformers) (5.4.1)\r\n",
      "Requirement already satisfied: regex!=2019.12.17 in /opt/conda/lib/python3.10/site-packages (from transformers) (2023.5.5)\r\n",
      "Requirement already satisfied: requests in /opt/conda/lib/python3.10/site-packages (from transformers) (2.28.2)\r\n",
      "Requirement already satisfied: tokenizers!=0.11.3,<0.14,>=0.11.1 in /opt/conda/lib/python3.10/site-packages (from transformers) (0.13.3)\r\n",
      "Requirement already satisfied: safetensors>=0.3.1 in /opt/conda/lib/python3.10/site-packages (from transformers) (0.3.1)\r\n",
      "Requirement already satisfied: tqdm>=4.27 in /opt/conda/lib/python3.10/site-packages (from transformers) (4.64.1)\r\n",
      "Requirement already satisfied: fsspec in /opt/conda/lib/python3.10/site-packages (from huggingface-hub<1.0,>=0.14.1->transformers) (2023.6.0)\r\n",
      "Requirement already satisfied: typing-extensions>=3.7.4.3 in /opt/conda/lib/python3.10/site-packages (from huggingface-hub<1.0,>=0.14.1->transformers) (4.5.0)\r\n",
      "Requirement already satisfied: pyparsing!=3.0.5,>=2.0.2 in /opt/conda/lib/python3.10/site-packages (from packaging>=20.0->transformers) (3.0.9)\r\n",
      "Requirement already satisfied: charset-normalizer<4,>=2 in /opt/conda/lib/python3.10/site-packages (from requests->transformers) (2.1.1)\r\n",
      "Requirement already satisfied: idna<4,>=2.5 in /opt/conda/lib/python3.10/site-packages (from requests->transformers) (3.4)\r\n",
      "Requirement already satisfied: urllib3<1.27,>=1.21.1 in /opt/conda/lib/python3.10/site-packages (from requests->transformers) (1.26.15)\r\n",
      "Requirement already satisfied: certifi>=2017.4.17 in /opt/conda/lib/python3.10/site-packages (from requests->transformers) (2023.5.7)\r\n",
      "\u001b[33mWARNING: Running pip as the 'root' user can result in broken permissions and conflicting behaviour with the system package manager. It is recommended to use a virtual environment instead: https://pip.pypa.io/warnings/venv\u001b[0m\u001b[33m\r\n",
      "\u001b[0m"
     ]
    }
   ],
   "source": [
    "!pip install transformers"
   ]
  },
  {
   "cell_type": "code",
   "execution_count": 6,
   "id": "11a191c5",
   "metadata": {
    "execution": {
     "iopub.execute_input": "2023-06-28T00:34:24.806304Z",
     "iopub.status.busy": "2023-06-28T00:34:24.805982Z",
     "iopub.status.idle": "2023-06-28T06:06:45.420003Z",
     "shell.execute_reply": "2023-06-28T06:06:45.418485Z"
    },
    "papermill": {
     "duration": 19940.622861,
     "end_time": "2023-06-28T06:06:45.422798",
     "exception": false,
     "start_time": "2023-06-28T00:34:24.799937",
     "status": "completed"
    },
    "tags": []
   },
   "outputs": [
    {
     "name": "stdout",
     "output_type": "stream",
     "text": [
      "/opt/conda/lib/python3.10/site-packages/tensorflow_io/python/ops/__init__.py:98: UserWarning: unable to load libtensorflow_io_plugins.so: unable to open file: libtensorflow_io_plugins.so, from paths: ['/opt/conda/lib/python3.10/site-packages/tensorflow_io/python/ops/libtensorflow_io_plugins.so']\r\n",
      "caused by: ['/opt/conda/lib/python3.10/site-packages/tensorflow_io/python/ops/libtensorflow_io_plugins.so: undefined symbol: _ZN3tsl6StatusC1EN10tensorflow5error4CodeESt17basic_string_viewIcSt11char_traitsIcEENS_14SourceLocationE']\r\n",
      "  warnings.warn(f\"unable to load libtensorflow_io_plugins.so: {e}\")\r\n",
      "/opt/conda/lib/python3.10/site-packages/tensorflow_io/python/ops/__init__.py:104: UserWarning: file system plugins are not loaded: unable to open file: libtensorflow_io.so, from paths: ['/opt/conda/lib/python3.10/site-packages/tensorflow_io/python/ops/libtensorflow_io.so']\r\n",
      "caused by: ['/opt/conda/lib/python3.10/site-packages/tensorflow_io/python/ops/libtensorflow_io.so: undefined symbol: _ZTVN10tensorflow13GcsFileSystemE']\r\n",
      "  warnings.warn(f\"file system plugins are not loaded: {e}\")\r\n",
      "\r\n",
      "\r\n",
      "Describe model:  Namespace(model='bert-base-uncased', batch_size=16, learning_rate=2e-05, num_epochs=4, saved_path='logs')\r\n",
      "\r\n",
      "\r\n",
      "Downloading (…)lve/main/config.json: 100%|█████| 570/570 [00:00<00:00, 2.75MB/s]\r\n",
      "Downloading model.safetensors: 100%|██████████| 440M/440M [00:01<00:00, 302MB/s]\r\n",
      "Some weights of the model checkpoint at bert-base-uncased were not used when initializing BertForQuestionAnswering: ['cls.seq_relationship.bias', 'cls.predictions.transform.LayerNorm.weight', 'cls.predictions.transform.dense.weight', 'cls.predictions.transform.LayerNorm.bias', 'cls.seq_relationship.weight', 'cls.predictions.bias', 'cls.predictions.transform.dense.bias']\r\n",
      "- This IS expected if you are initializing BertForQuestionAnswering from the checkpoint of a model trained on another task or with another architecture (e.g. initializing a BertForSequenceClassification model from a BertForPreTraining model).\r\n",
      "- This IS NOT expected if you are initializing BertForQuestionAnswering from the checkpoint of a model that you expect to be exactly identical (initializing a BertForSequenceClassification model from a BertForSequenceClassification model).\r\n",
      "Some weights of BertForQuestionAnswering were not initialized from the model checkpoint at bert-base-uncased and are newly initialized: ['qa_outputs.bias', 'qa_outputs.weight']\r\n",
      "You should probably TRAIN this model on a down-stream task to be able to use it for predictions and inference.\r\n",
      "Downloading (…)okenizer_config.json: 100%|████| 28.0/28.0 [00:00<00:00, 142kB/s]\r\n",
      "Downloading (…)solve/main/vocab.txt: 100%|███| 232k/232k [00:00<00:00, 1.84MB/s]\r\n",
      "Downloading (…)/main/tokenizer.json: 100%|███| 466k/466k [00:00<00:00, 2.57MB/s]\r\n",
      "----------Train----------\r\n",
      " 18%|██████▉                               | 999/5427 [14:06<1:02:18,  1.18it/s]Batch 1000 / 5427 \r\n",
      "Loss: 1.2419617176055908 \r\n",
      "\r\n",
      " 37%|██████████████▎                        | 1999/5427 [28:12<48:23,  1.18it/s]Batch 2000 / 5427 \r\n",
      "Loss: 1.2571967840194702 \r\n",
      "\r\n",
      " 55%|█████████████████████▌                 | 2999/5427 [42:18<34:08,  1.19it/s]Batch 3000 / 5427 \r\n",
      "Loss: 0.6507360935211182 \r\n",
      "\r\n",
      " 74%|████████████████████████████▋          | 3999/5427 [56:24<20:10,  1.18it/s]Batch 4000 / 5427 \r\n",
      "Loss: 0.9430553913116455 \r\n",
      "\r\n",
      " 92%|██████████████████████████████████   | 4999/5427 [1:10:30<06:01,  1.18it/s]Batch 5000 / 5427 \r\n",
      "Loss: 0.6437711715698242 \r\n",
      "\r\n",
      "100%|█████████████████████████████████████| 5427/5427 [1:16:32<00:00,  1.18it/s]\r\n",
      "----------Evaluate----------\r\n",
      " 79%|███████████████████████████████▍        | 999/1269 [04:46<01:17,  3.50it/s]Batch 1000 / 1269 \r\n",
      "Loss: 0.7246175408363342 \r\n",
      "\r\n",
      "100%|███████████████████████████████████████| 1269/1269 [06:03<00:00,  3.49it/s]\r\n",
      "------- Epoch  1  -------, Training Loss: 1.3666500920295628 , Validation Loss: 1.1190699321636894 \r\n",
      "\r\n",
      "----------Train----------\r\n",
      " 18%|██████▉                               | 999/5427 [14:05<1:02:25,  1.18it/s]Batch 1000 / 5427 \r\n",
      "Loss: 0.76390540599823 \r\n",
      "\r\n",
      " 37%|██████████████▎                        | 1999/5427 [28:12<48:18,  1.18it/s]Batch 2000 / 5427 \r\n",
      "Loss: 1.2724117040634155 \r\n",
      "\r\n",
      " 55%|█████████████████████▌                 | 2999/5427 [42:19<34:25,  1.18it/s]Batch 3000 / 5427 \r\n",
      "Loss: 0.594889760017395 \r\n",
      "\r\n",
      " 74%|████████████████████████████▋          | 3999/5427 [56:26<20:06,  1.18it/s]Batch 4000 / 5427 \r\n",
      "Loss: 1.2045916318893433 \r\n",
      "\r\n",
      " 92%|██████████████████████████████████   | 4999/5427 [1:10:33<06:00,  1.19it/s]Batch 5000 / 5427 \r\n",
      "Loss: 1.1583127975463867 \r\n",
      "\r\n",
      "100%|█████████████████████████████████████| 5427/5427 [1:16:35<00:00,  1.18it/s]\r\n",
      "----------Evaluate----------\r\n",
      " 79%|███████████████████████████████▍        | 999/1269 [04:46<01:17,  3.50it/s]Batch 1000 / 1269 \r\n",
      "Loss: 0.6694424152374268 \r\n",
      "\r\n",
      "100%|███████████████████████████████████████| 1269/1269 [06:03<00:00,  3.49it/s]\r\n",
      "------- Epoch  2  -------, Training Loss: 0.806377491522982 , Validation Loss: 1.0871450318650315 \r\n",
      "\r\n",
      "----------Train----------\r\n",
      " 18%|██████▉                               | 999/5427 [14:06<1:02:34,  1.18it/s]Batch 1000 / 5427 \r\n",
      "Loss: 0.5597286820411682 \r\n",
      "\r\n",
      " 37%|██████████████▎                        | 1999/5427 [28:13<48:16,  1.18it/s]Batch 2000 / 5427 \r\n",
      "Loss: 0.5966901779174805 \r\n",
      "\r\n",
      " 55%|█████████████████████▌                 | 2999/5427 [42:20<34:24,  1.18it/s]Batch 3000 / 5427 \r\n",
      "Loss: 0.3212937116622925 \r\n",
      "\r\n",
      " 74%|████████████████████████████▋          | 3999/5427 [56:26<20:12,  1.18it/s]Batch 4000 / 5427 \r\n",
      "Loss: 0.39368748664855957 \r\n",
      "\r\n",
      " 92%|██████████████████████████████████   | 4999/5427 [1:10:33<06:01,  1.18it/s]Batch 5000 / 5427 \r\n",
      "Loss: 0.2687365412712097 \r\n",
      "\r\n",
      "100%|█████████████████████████████████████| 5427/5427 [1:16:34<00:00,  1.18it/s]\r\n",
      "----------Evaluate----------\r\n",
      " 79%|███████████████████████████████▍        | 999/1269 [04:46<01:18,  3.46it/s]Batch 1000 / 1269 \r\n",
      "Loss: 0.8638731241226196 \r\n",
      "\r\n",
      "100%|███████████████████████████████████████| 1269/1269 [06:04<00:00,  3.49it/s]\r\n",
      "------- Epoch  3  -------, Training Loss: 0.5782322246139937 , Validation Loss: 1.1850784165913884 \r\n",
      "\r\n",
      "----------Train----------\r\n",
      " 18%|██████▉                               | 999/5427 [14:06<1:02:39,  1.18it/s]Batch 1000 / 5427 \r\n",
      "Loss: 0.22306115925312042 \r\n",
      "\r\n",
      " 37%|██████████████▎                        | 1999/5427 [28:14<48:24,  1.18it/s]Batch 2000 / 5427 \r\n",
      "Loss: 0.23306764662265778 \r\n",
      "\r\n",
      " 55%|█████████████████████▌                 | 2999/5427 [42:22<34:18,  1.18it/s]Batch 3000 / 5427 \r\n",
      "Loss: 0.26523181796073914 \r\n",
      "\r\n",
      " 74%|████████████████████████████▋          | 3999/5427 [56:31<20:21,  1.17it/s]Batch 4000 / 5427 \r\n",
      "Loss: 0.48155131936073303 \r\n",
      "\r\n",
      " 92%|██████████████████████████████████   | 4999/5427 [1:10:41<06:05,  1.17it/s]Batch 5000 / 5427 \r\n",
      "Loss: 0.724629282951355 \r\n",
      "\r\n",
      "100%|█████████████████████████████████████| 5427/5427 [1:16:44<00:00,  1.18it/s]\r\n",
      "----------Evaluate----------\r\n",
      " 79%|███████████████████████████████▍        | 999/1269 [04:47<01:18,  3.44it/s]Batch 1000 / 1269 \r\n",
      "Loss: 0.9472706317901611 \r\n",
      "\r\n",
      "100%|███████████████████████████████████████| 1269/1269 [06:05<00:00,  3.47it/s]\r\n",
      "------- Epoch  4  -------, Training Loss: 0.4187764859687443 , Validation Loss: 1.3062571438889543 \r\n",
      "\r\n"
     ]
    }
   ],
   "source": [
    "!mkdir logs\n",
    "!python train.py"
   ]
  },
  {
   "cell_type": "code",
   "execution_count": 7,
   "id": "1a6999bd",
   "metadata": {
    "execution": {
     "iopub.execute_input": "2023-06-28T06:06:49.673839Z",
     "iopub.status.busy": "2023-06-28T06:06:49.673439Z",
     "iopub.status.idle": "2023-06-28T06:06:49.680452Z",
     "shell.execute_reply": "2023-06-28T06:06:49.679447Z"
    },
    "papermill": {
     "duration": 2.196914,
     "end_time": "2023-06-28T06:06:49.682454",
     "exception": false,
     "start_time": "2023-06-28T06:06:47.485540",
     "status": "completed"
    },
    "tags": []
   },
   "outputs": [],
   "source": [
    "def get_loss():\n",
    "    train_losses = []\n",
    "    val_losses = []\n",
    "    for i in range(0,4):\n",
    "        fullname = '/kaggle/working/NLP-project/logs/' + str(i)+ \".pt\"\n",
    "        checkpoint = torch.load(fullname)\n",
    "        train_losses.append(checkpoint['loss_train'])\n",
    "        val_losses.append(checkpoint['loss_val'])\n",
    "    return train_losses, val_losses"
   ]
  },
  {
   "cell_type": "code",
   "execution_count": 8,
   "id": "7a4c98b9",
   "metadata": {
    "execution": {
     "iopub.execute_input": "2023-06-28T06:06:54.001449Z",
     "iopub.status.busy": "2023-06-28T06:06:54.001080Z",
     "iopub.status.idle": "2023-06-28T06:07:00.936071Z",
     "shell.execute_reply": "2023-06-28T06:07:00.934835Z"
    },
    "papermill": {
     "duration": 8.990026,
     "end_time": "2023-06-28T06:07:00.938776",
     "exception": false,
     "start_time": "2023-06-28T06:06:51.948750",
     "status": "completed"
    },
    "tags": []
   },
   "outputs": [
    {
     "data": {
      "image/png": "[encoded data removed]",
      "text/plain": [
       "<Figure size 640x480 with 1 Axes>"
      ]
     },
     "metadata": {},
     "output_type": "display_data"
    }
   ],
   "source": [
    "from visualize import plot_loss_vs_epochs\n",
    "train_losses, val_losses = get_loss()\n",
    "plot_loss_vs_epochs(train_losses, val_losses)"
   ]
  }
 ],
 "metadata": {
  "kernelspec": {
   "display_name": "Python 3",
   "language": "python",
   "name": "python3"
  },
  "language_info": {
   "codemirror_mode": {
    "name": "ipython",
    "version": 3
   },
   "file_extension": ".py",
   "mimetype": "text/x-python",
   "name": "python",
   "nbconvert_exporter": "python",
   "pygments_lexer": "ipython3",
   "version": "3.10.10"
  },
  "papermill": {
   "default_parameters": {},
   "duration": 20517.002689,
   "end_time": "2023-06-28T06:15:50.775733",
   "environment_variables": {},
   "exception": null,
   "input_path": "__notebook__.ipynb",
   "output_path": "__notebook__.ipynb",
   "parameters": {},
   "start_time": "2023-06-28T00:33:53.773044",
   "version": "2.4.0"
  }
 },
 "nbformat": 4,
 "nbformat_minor": 5
}
