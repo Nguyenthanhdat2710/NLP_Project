{
 "cells": [
  {
   "cell_type": "code",
   "execution_count": 1,
   "id": "f99377dd",
   "metadata": {
    "_cell_guid": "b1076dfc-b9ad-4769-8c92-a6c4dae69d19",
    "_uuid": "8f2839f25d086af736a60e9eeb907d3b93b6e0e5",
    "execution": {
     "iopub.execute_input": "2023-07-07T10:32:38.556336Z",
     "iopub.status.busy": "2023-07-07T10:32:38.555869Z",
     "iopub.status.idle": "2023-07-07T10:32:42.857901Z",
     "shell.execute_reply": "2023-07-07T10:32:42.856912Z"
    },
    "papermill": {
     "duration": 4.310019,
     "end_time": "2023-07-07T10:32:42.860633",
     "exception": false,
     "start_time": "2023-07-07T10:32:38.550614",
     "status": "completed"
    },
    "tags": []
   },
   "outputs": [],
   "source": [
    "import transformers\n",
    "import shutil\n",
    "import os\n",
    "import torch"
   ]
  },
  {
   "cell_type": "code",
   "execution_count": 2,
   "id": "891c0c17",
   "metadata": {
    "execution": {
     "iopub.execute_input": "2023-07-07T10:32:42.870381Z",
     "iopub.status.busy": "2023-07-07T10:32:42.869094Z",
     "iopub.status.idle": "2023-07-07T10:32:45.032392Z",
     "shell.execute_reply": "2023-07-07T10:32:45.031099Z"
    },
    "papermill": {
     "duration": 2.170376,
     "end_time": "2023-07-07T10:32:45.035171",
     "exception": false,
     "start_time": "2023-07-07T10:32:42.864795",
     "status": "completed"
    },
    "tags": []
   },
   "outputs": [],
   "source": [
    "%%capture\n",
    "!mkdir squad\n",
    "!wget https://rajpurkar.github.io/SQuAD-explorer/dataset/train-v2.0.json -O squad/train-v2.0.json"
   ]
  },
  {
   "cell_type": "code",
   "execution_count": 3,
   "id": "e4936043",
   "metadata": {
    "execution": {
     "iopub.execute_input": "2023-07-07T10:32:45.043565Z",
     "iopub.status.busy": "2023-07-07T10:32:45.042822Z",
     "iopub.status.idle": "2023-07-07T10:32:47.032000Z",
     "shell.execute_reply": "2023-07-07T10:32:47.030839Z"
    },
    "papermill": {
     "duration": 1.996204,
     "end_time": "2023-07-07T10:32:47.034641",
     "exception": false,
     "start_time": "2023-07-07T10:32:45.038437",
     "status": "completed"
    },
    "tags": []
   },
   "outputs": [
    {
     "name": "stdout",
     "output_type": "stream",
     "text": [
      "Cloning into 'NLP-project'...\r\n",
      "remote: Enumerating objects: 16, done.\u001b[K\r\n",
      "remote: Counting objects: 100% (16/16), done.\u001b[K\r\n",
      "remote: Compressing objects: 100% (12/12), done.\u001b[K\r\n",
      "remote: Total 16 (delta 1), reused 5 (delta 0), pack-reused 0\u001b[K\r\n",
      "Receiving objects: 100% (16/16), 831.99 KiB | 5.47 MiB/s, done.\r\n",
      "Resolving deltas: 100% (1/1), done.\r\n"
     ]
    }
   ],
   "source": [
    "!git clone --depth 1 https://github.com/NguyenNhoTrung/NLP-project.git"
   ]
  },
  {
   "cell_type": "code",
   "execution_count": 4,
   "id": "1271003b",
   "metadata": {
    "execution": {
     "iopub.execute_input": "2023-07-07T10:32:47.043570Z",
     "iopub.status.busy": "2023-07-07T10:32:47.043242Z",
     "iopub.status.idle": "2023-07-07T10:32:47.053806Z",
     "shell.execute_reply": "2023-07-07T10:32:47.052966Z"
    },
    "papermill": {
     "duration": 0.017526,
     "end_time": "2023-07-07T10:32:47.056014",
     "exception": false,
     "start_time": "2023-07-07T10:32:47.038488",
     "status": "completed"
    },
    "tags": []
   },
   "outputs": [
    {
     "data": {
      "text/plain": [
       "'/kaggle/working/NLP-project'"
      ]
     },
     "execution_count": 4,
     "metadata": {},
     "output_type": "execute_result"
    }
   ],
   "source": [
    "os.chdir('/kaggle/working/NLP-project')\n",
    "shutil.move('/kaggle/working/squad/train-v2.0.json', '/kaggle/working/NLP-project/squad')\n",
    "os.getcwd()"
   ]
  },
  {
   "cell_type": "code",
   "execution_count": 5,
   "id": "2b8a7c1a",
   "metadata": {
    "execution": {
     "iopub.execute_input": "2023-07-07T10:32:47.064445Z",
     "iopub.status.busy": "2023-07-07T10:32:47.064175Z",
     "iopub.status.idle": "2023-07-07T16:05:23.155595Z",
     "shell.execute_reply": "2023-07-07T16:05:23.154438Z"
    },
    "papermill": {
     "duration": 19956.098399,
     "end_time": "2023-07-07T16:05:23.158176",
     "exception": false,
     "start_time": "2023-07-07T10:32:47.059777",
     "status": "completed"
    },
    "tags": []
   },
   "outputs": [
    {
     "name": "stdout",
     "output_type": "stream",
     "text": [
      "/opt/conda/lib/python3.10/site-packages/tensorflow_io/python/ops/__init__.py:98: UserWarning: unable to load libtensorflow_io_plugins.so: unable to open file: libtensorflow_io_plugins.so, from paths: ['/opt/conda/lib/python3.10/site-packages/tensorflow_io/python/ops/libtensorflow_io_plugins.so']\r\n",
      "caused by: ['/opt/conda/lib/python3.10/site-packages/tensorflow_io/python/ops/libtensorflow_io_plugins.so: undefined symbol: _ZN3tsl6StatusC1EN10tensorflow5error4CodeESt17basic_string_viewIcSt11char_traitsIcEENS_14SourceLocationE']\r\n",
      "  warnings.warn(f\"unable to load libtensorflow_io_plugins.so: {e}\")\r\n",
      "/opt/conda/lib/python3.10/site-packages/tensorflow_io/python/ops/__init__.py:104: UserWarning: file system plugins are not loaded: unable to open file: libtensorflow_io.so, from paths: ['/opt/conda/lib/python3.10/site-packages/tensorflow_io/python/ops/libtensorflow_io.so']\r\n",
      "caused by: ['/opt/conda/lib/python3.10/site-packages/tensorflow_io/python/ops/libtensorflow_io.so: undefined symbol: _ZTVN10tensorflow13GcsFileSystemE']\r\n",
      "  warnings.warn(f\"file system plugins are not loaded: {e}\")\r\n",
      "\r\n",
      "\r\n",
      "Describe model:  Namespace(model='google/electra-base-discriminator', batch_size=16, learning_rate=3e-05, num_epochs=4, saved_path='logs')\r\n",
      "\r\n",
      "\r\n",
      "Downloading (…)lve/main/config.json: 100%|█████| 666/666 [00:00<00:00, 2.18MB/s]\r\n",
      "Downloading pytorch_model.bin: 100%|██████████| 440M/440M [00:01<00:00, 360MB/s]\r\n",
      "Some weights of the model checkpoint at google/electra-base-discriminator were not used when initializing ElectraForQuestionAnswering: ['discriminator_predictions.dense.bias', 'discriminator_predictions.dense.weight', 'discriminator_predictions.dense_prediction.weight', 'discriminator_predictions.dense_prediction.bias']\r\n",
      "- This IS expected if you are initializing ElectraForQuestionAnswering from the checkpoint of a model trained on another task or with another architecture (e.g. initializing a BertForSequenceClassification model from a BertForPreTraining model).\r\n",
      "- This IS NOT expected if you are initializing ElectraForQuestionAnswering from the checkpoint of a model that you expect to be exactly identical (initializing a BertForSequenceClassification model from a BertForSequenceClassification model).\r\n",
      "Some weights of ElectraForQuestionAnswering were not initialized from the model checkpoint at google/electra-base-discriminator and are newly initialized: ['qa_outputs.weight', 'qa_outputs.bias']\r\n",
      "You should probably TRAIN this model on a down-stream task to be able to use it for predictions and inference.\r\n",
      "Downloading (…)okenizer_config.json: 100%|████| 27.0/27.0 [00:00<00:00, 158kB/s]\r\n",
      "Downloading (…)solve/main/vocab.txt: 100%|███| 232k/232k [00:00<00:00, 2.90MB/s]\r\n",
      "Downloading (…)/main/tokenizer.json: 100%|███| 466k/466k [00:00<00:00, 47.4MB/s]\r\n",
      "----------Train----------\r\n",
      " 18%|██████▉                               | 999/5427 [14:05<1:02:21,  1.18it/s]Batch 1000 / 5427 \r\n",
      "Loss: 1.406580924987793 \r\n",
      "\r\n",
      " 37%|██████████████▎                        | 1999/5427 [28:11<48:28,  1.18it/s]Batch 2000 / 5427 \r\n",
      "Loss: 0.4237961173057556 \r\n",
      "\r\n",
      " 55%|█████████████████████▌                 | 2999/5427 [42:17<34:14,  1.18it/s]Batch 3000 / 5427 \r\n",
      "Loss: 0.9527944326400757 \r\n",
      "\r\n",
      " 74%|████████████████████████████▋          | 3999/5427 [56:24<20:05,  1.18it/s]Batch 4000 / 5427 \r\n",
      "Loss: 0.9032844305038452 \r\n",
      "\r\n",
      " 92%|██████████████████████████████████   | 4999/5427 [1:10:31<06:02,  1.18it/s]Batch 5000 / 5427 \r\n",
      "Loss: 0.9546105861663818 \r\n",
      "\r\n",
      "100%|█████████████████████████████████████| 5427/5427 [1:16:32<00:00,  1.18it/s]\r\n",
      "----------Evaluate----------\r\n",
      " 79%|███████████████████████████████▍        | 999/1269 [04:45<01:17,  3.50it/s]Batch 1000 / 1269 \r\n",
      "Loss: 0.7151507139205933 \r\n",
      "\r\n",
      "100%|███████████████████████████████████████| 1269/1269 [06:03<00:00,  3.49it/s]\r\n",
      "------- Epoch  1  -------, Training Loss: 1.0405207806739971 , Validation Loss: 0.9105199563777158 \r\n",
      "\r\n",
      "----------Train----------\r\n",
      " 18%|██████▉                               | 999/5427 [14:06<1:02:32,  1.18it/s]Batch 1000 / 5427 \r\n",
      "Loss: 0.6531497240066528 \r\n",
      "\r\n",
      " 37%|██████████████▎                        | 1999/5427 [28:14<48:23,  1.18it/s]Batch 2000 / 5427 \r\n",
      "Loss: 0.5513396859169006 \r\n",
      "\r\n",
      " 55%|█████████████████████▌                 | 2999/5427 [42:22<34:17,  1.18it/s]Batch 3000 / 5427 \r\n",
      "Loss: 1.1613919734954834 \r\n",
      "\r\n",
      " 74%|████████████████████████████▋          | 3999/5427 [56:31<20:10,  1.18it/s]Batch 4000 / 5427 \r\n",
      "Loss: 0.6391727328300476 \r\n",
      "\r\n",
      " 92%|██████████████████████████████████   | 4999/5427 [1:10:39<06:02,  1.18it/s]Batch 5000 / 5427 \r\n",
      "Loss: 0.46479588747024536 \r\n",
      "\r\n",
      "100%|█████████████████████████████████████| 5427/5427 [1:16:41<00:00,  1.18it/s]\r\n",
      "----------Evaluate----------\r\n",
      " 79%|███████████████████████████████▍        | 999/1269 [04:46<01:17,  3.50it/s]Batch 1000 / 1269 \r\n",
      "Loss: 0.7920277118682861 \r\n",
      "\r\n",
      "100%|███████████████████████████████████████| 1269/1269 [06:03<00:00,  3.49it/s]\r\n",
      "------- Epoch  2  -------, Training Loss: 0.6437722745550388 , Validation Loss: 0.9954909219570206 \r\n",
      "\r\n",
      "----------Train----------\r\n",
      " 18%|██████▉                               | 999/5427 [14:06<1:02:31,  1.18it/s]Batch 1000 / 5427 \r\n",
      "Loss: 0.20555895566940308 \r\n",
      "\r\n",
      " 37%|██████████████▎                        | 1999/5427 [28:14<48:20,  1.18it/s]Batch 2000 / 5427 \r\n",
      "Loss: 0.5807901620864868 \r\n",
      "\r\n",
      " 55%|█████████████████████▌                 | 2999/5427 [42:22<34:23,  1.18it/s]Batch 3000 / 5427 \r\n",
      "Loss: 0.6591965556144714 \r\n",
      "\r\n",
      " 74%|████████████████████████████▋          | 3999/5427 [56:30<20:06,  1.18it/s]Batch 4000 / 5427 \r\n",
      "Loss: 0.37127071619033813 \r\n",
      "\r\n",
      " 92%|██████████████████████████████████   | 4999/5427 [1:10:38<06:02,  1.18it/s]Batch 5000 / 5427 \r\n",
      "Loss: 0.4977436065673828 \r\n",
      "\r\n",
      "100%|█████████████████████████████████████| 5427/5427 [1:16:40<00:00,  1.18it/s]\r\n",
      "----------Evaluate----------\r\n",
      " 79%|███████████████████████████████▍        | 999/1269 [04:46<01:17,  3.49it/s]Batch 1000 / 1269 \r\n",
      "Loss: 0.7877953052520752 \r\n",
      "\r\n",
      "100%|███████████████████████████████████████| 1269/1269 [06:03<00:00,  3.49it/s]\r\n",
      "------- Epoch  3  -------, Training Loss: 0.4742358487153638 , Validation Loss: 1.0621704553783093 \r\n",
      "\r\n",
      "----------Train----------\r\n",
      " 18%|██████▉                               | 999/5427 [14:07<1:02:50,  1.17it/s]Batch 1000 / 5427 \r\n",
      "Loss: 0.5417499542236328 \r\n",
      "\r\n",
      " 37%|██████████████▎                        | 1999/5427 [28:16<48:24,  1.18it/s]Batch 2000 / 5427 \r\n",
      "Loss: 0.1572716385126114 \r\n",
      "\r\n",
      " 55%|█████████████████████▌                 | 2999/5427 [42:26<34:22,  1.18it/s]Batch 3000 / 5427 \r\n",
      "Loss: 0.26210522651672363 \r\n",
      "\r\n",
      " 74%|████████████████████████████▋          | 3999/5427 [56:35<20:18,  1.17it/s]Batch 4000 / 5427 \r\n",
      "Loss: 0.35972970724105835 \r\n",
      "\r\n",
      " 92%|██████████████████████████████████   | 4999/5427 [1:10:45<06:02,  1.18it/s]Batch 5000 / 5427 \r\n",
      "Loss: 0.6576979160308838 \r\n",
      "\r\n",
      "100%|█████████████████████████████████████| 5427/5427 [1:16:47<00:00,  1.18it/s]\r\n",
      "----------Evaluate----------\r\n",
      " 79%|███████████████████████████████▍        | 999/1269 [04:46<01:17,  3.48it/s]Batch 1000 / 1269 \r\n",
      "Loss: 1.0017542839050293 \r\n",
      "\r\n",
      "100%|███████████████████████████████████████| 1269/1269 [06:04<00:00,  3.48it/s]\r\n",
      "------- Epoch  4  -------, Training Loss: 0.38394294661935335 , Validation Loss: 1.2354019355650667 \r\n",
      "\r\n"
     ]
    }
   ],
   "source": [
    "!mkdir logs\n",
    "!python train.py --model \"google/electra-base-discriminator\" --batch_size 16 --learning_rate 3e-5"
   ]
  },
  {
   "cell_type": "code",
   "execution_count": 6,
   "id": "f0a01378",
   "metadata": {
    "execution": {
     "iopub.execute_input": "2023-07-07T16:05:27.362198Z",
     "iopub.status.busy": "2023-07-07T16:05:27.361786Z",
     "iopub.status.idle": "2023-07-07T16:05:34.045719Z",
     "shell.execute_reply": "2023-07-07T16:05:34.044862Z"
    },
    "papermill": {
     "duration": 8.762315,
     "end_time": "2023-07-07T16:05:34.047669",
     "exception": false,
     "start_time": "2023-07-07T16:05:25.285354",
     "status": "completed"
    },
    "tags": []
   },
   "outputs": [
    {
     "data": {
      "image/png": "[encoded data removed]",
      "text/plain": [
       "<Figure size 640x480 with 1 Axes>"
      ]
     },
     "metadata": {},
     "output_type": "display_data"
    }
   ],
   "source": [
    "def get_loss():\n",
    "    train_losses = []\n",
    "    val_losses = []\n",
    "    for i in range(0,4):\n",
    "        fullname = '/kaggle/working/NLP-project/logs/' + str(i)+ \".pt\"\n",
    "        checkpoint = torch.load(fullname)\n",
    "        train_losses.append(checkpoint['loss_train'])\n",
    "        val_losses.append(checkpoint['loss_val'])\n",
    "    return train_losses, val_losses\n",
    "\n",
    "from visualize import plot_loss_vs_epochs\n",
    "train_losses, val_losses = get_loss()\n",
    "plot_loss_vs_epochs(train_losses, val_losses)"
   ]
  }
 ],
 "metadata": {
  "kernelspec": {
   "display_name": "Python 3",
   "language": "python",
   "name": "python3"
  },
  "language_info": {
   "codemirror_mode": {
    "name": "ipython",
    "version": 3
   },
   "file_extension": ".py",
   "mimetype": "text/x-python",
   "name": "python",
   "nbconvert_exporter": "python",
   "pygments_lexer": "ipython3",
   "version": "3.10.10"
  },
  "papermill": {
   "default_parameters": {},
   "duration": 20491.733913,
   "end_time": "2023-07-07T16:13:59.659089",
   "environment_variables": {},
   "exception": null,
   "input_path": "__notebook__.ipynb",
   "output_path": "__notebook__.ipynb",
   "parameters": {},
   "start_time": "2023-07-07T10:32:27.925176",
   "version": "2.4.0"
  }
 },
 "nbformat": 4,
 "nbformat_minor": 5
}
